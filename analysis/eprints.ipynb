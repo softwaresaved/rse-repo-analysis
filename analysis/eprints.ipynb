{
 "cells": [
  {
   "cell_type": "markdown",
   "metadata": {},
   "source": [
    "# External evidence"
   ]
  },
  {
   "cell_type": "code",
   "execution_count": 4,
   "metadata": {},
   "outputs": [],
   "source": [
    "import pandas as pd\n",
    "import os\n",
    "from scholarly import scholarly"
   ]
  },
  {
   "cell_type": "code",
   "execution_count": 5,
   "metadata": {},
   "outputs": [],
   "source": [
    "data_dir = \"../data/analysis\"\n",
    "urls = pd.read_csv(os.path.join(data_dir, \"cleaned_links\", \"cleaned_urls_clok.uclan.ac.uk_2010-_github.com.csv\"))"
   ]
  },
  {
   "cell_type": "code",
   "execution_count": 6,
   "metadata": {},
   "outputs": [
    {
     "data": {
      "text/html": [
       "<div>\n",
       "<style scoped>\n",
       "    .dataframe tbody tr th:only-of-type {\n",
       "        vertical-align: middle;\n",
       "    }\n",
       "\n",
       "    .dataframe tbody tr th {\n",
       "        vertical-align: top;\n",
       "    }\n",
       "\n",
       "    .dataframe thead th {\n",
       "        text-align: right;\n",
       "    }\n",
       "</style>\n",
       "<table border=\"1\" class=\"dataframe\">\n",
       "  <thead>\n",
       "    <tr style=\"text-align: right;\">\n",
       "      <th></th>\n",
       "      <th>title</th>\n",
       "      <th>author_for_reference</th>\n",
       "      <th>pdf_url</th>\n",
       "      <th>page_no</th>\n",
       "      <th>domain_url</th>\n",
       "      <th>pattern_cleaned_url</th>\n",
       "      <th>github_user_cleaned_url</th>\n",
       "    </tr>\n",
       "  </thead>\n",
       "  <tbody>\n",
       "    <tr>\n",
       "      <th>0</th>\n",
       "      <td>The Impact of Heat Electrification on the seas...</td>\n",
       "      <td>Malcolm Peacock</td>\n",
       "      <td>https://clok.uclan.ac.uk/45769/1/1-s2.0-S03062...</td>\n",
       "      <td>16</td>\n",
       "      <td>https://github.com/malcolmpeacock/heat.</td>\n",
       "      <td>github.com/malcolmpeacock/heat</td>\n",
       "      <td>malcolmpeacock/heat</td>\n",
       "    </tr>\n",
       "    <tr>\n",
       "      <th>1</th>\n",
       "      <td>Experimental Research Reproducibility and Expe...</td>\n",
       "      <td>Yuri Demchenko</td>\n",
       "      <td>https://clok.uclan.ac.uk/45676/1/tasir23.pdf</td>\n",
       "      <td>6</td>\n",
       "      <td>https://github.com/gallenmu/pos-jupyter/blob/m...</td>\n",
       "      <td>github.com/gallenmu/pos-jupyter</td>\n",
       "      <td>gallenmu/pos-jupyter</td>\n",
       "    </tr>\n",
       "    <tr>\n",
       "      <th>2</th>\n",
       "      <td>Experimental Research Reproducibility and Expe...</td>\n",
       "      <td>Yuri Demchenko</td>\n",
       "      <td>https://clok.uclan.ac.uk/45676/1/tasir23.pdf</td>\n",
       "      <td>6</td>\n",
       "      <td>https://github.com/common-workflow-language/cw...</td>\n",
       "      <td>github.com/common-workflow-language/cwltool</td>\n",
       "      <td>common-workflow-language/cwltool</td>\n",
       "    </tr>\n",
       "    <tr>\n",
       "      <th>3</th>\n",
       "      <td>Experimental Research Reproducibility and Expe...</td>\n",
       "      <td>Yuri Demchenko</td>\n",
       "      <td>https://clok.uclan.ac.uk/45676/1/tasir23.pdf</td>\n",
       "      <td>6</td>\n",
       "      <td>https://github.com/Barski-lab/cwl-airflow,</td>\n",
       "      <td>github.com/Barski-lab/cwl-airflow</td>\n",
       "      <td>Barski-lab/cwl-airflow</td>\n",
       "    </tr>\n",
       "    <tr>\n",
       "      <th>4</th>\n",
       "      <td>Experimental Research Reproducibility and Expe...</td>\n",
       "      <td>Yuri Demchenko</td>\n",
       "      <td>https://clok.uclan.ac.uk/45676/1/tasir23.pdf</td>\n",
       "      <td>6</td>\n",
       "      <td>https://github.com/DataBiosphere/toil,</td>\n",
       "      <td>github.com/DataBiosphere/toil</td>\n",
       "      <td>DataBiosphere/toil</td>\n",
       "    </tr>\n",
       "  </tbody>\n",
       "</table>\n",
       "</div>"
      ],
      "text/plain": [
       "                                               title author_for_reference  \\\n",
       "0  The Impact of Heat Electrification on the seas...      Malcolm Peacock   \n",
       "1  Experimental Research Reproducibility and Expe...       Yuri Demchenko   \n",
       "2  Experimental Research Reproducibility and Expe...       Yuri Demchenko   \n",
       "3  Experimental Research Reproducibility and Expe...       Yuri Demchenko   \n",
       "4  Experimental Research Reproducibility and Expe...       Yuri Demchenko   \n",
       "\n",
       "                                             pdf_url  page_no  \\\n",
       "0  https://clok.uclan.ac.uk/45769/1/1-s2.0-S03062...       16   \n",
       "1       https://clok.uclan.ac.uk/45676/1/tasir23.pdf        6   \n",
       "2       https://clok.uclan.ac.uk/45676/1/tasir23.pdf        6   \n",
       "3       https://clok.uclan.ac.uk/45676/1/tasir23.pdf        6   \n",
       "4       https://clok.uclan.ac.uk/45676/1/tasir23.pdf        6   \n",
       "\n",
       "                                          domain_url  \\\n",
       "0            https://github.com/malcolmpeacock/heat.   \n",
       "1  https://github.com/gallenmu/pos-jupyter/blob/m...   \n",
       "2  https://github.com/common-workflow-language/cw...   \n",
       "3         https://github.com/Barski-lab/cwl-airflow,   \n",
       "4             https://github.com/DataBiosphere/toil,   \n",
       "\n",
       "                           pattern_cleaned_url  \\\n",
       "0               github.com/malcolmpeacock/heat   \n",
       "1              github.com/gallenmu/pos-jupyter   \n",
       "2  github.com/common-workflow-language/cwltool   \n",
       "3            github.com/Barski-lab/cwl-airflow   \n",
       "4                github.com/DataBiosphere/toil   \n",
       "\n",
       "            github_user_cleaned_url  \n",
       "0               malcolmpeacock/heat  \n",
       "1              gallenmu/pos-jupyter  \n",
       "2  common-workflow-language/cwltool  \n",
       "3            Barski-lab/cwl-airflow  \n",
       "4                DataBiosphere/toil  "
      ]
     },
     "execution_count": 6,
     "metadata": {},
     "output_type": "execute_result"
    }
   ],
   "source": [
    "urls.head()"
   ]
  },
  {
   "cell_type": "code",
   "execution_count": 11,
   "metadata": {},
   "outputs": [],
   "source": [
    "search_query = scholarly.search_pubs(urls.title.iloc[0])\n",
    "res = next(search_query)"
   ]
  },
  {
   "cell_type": "code",
   "execution_count": 15,
   "metadata": {},
   "outputs": [
    {
     "data": {
      "text/plain": [
       "{'title': 'The impact of heat electrification on the seasonal and interannual electricity demand of Great Britain',\n",
       " 'author': ['M Peacock', 'A Fragaki', 'BJ Matuszewski'],\n",
       " 'pub_year': '2023',\n",
       " 'venue': 'Applied Energy',\n",
       " 'abstract': 'Amongst all future developments it is the electrification of heat that is anticipated to have the largest impact on seasonal and interannual electricity demand. There is therefore a need to accurately quantify and assess this impact. This paper uses a combination of existing advanced techniques to modify the historic electricity demand to incorporate the impact of heat pumps alone for long-term historic weather data using Great Britain as an example. The methods for generating time series were compared and extensively validated. This includes'}"
      ]
     },
     "execution_count": 15,
     "metadata": {},
     "output_type": "execute_result"
    }
   ],
   "source": [
    "res[\"bib\"]"
   ]
  }
 ],
 "metadata": {
  "kernelspec": {
   "display_name": "ssi",
   "language": "python",
   "name": "python3"
  },
  "language_info": {
   "codemirror_mode": {
    "name": "ipython",
    "version": 3
   },
   "file_extension": ".py",
   "mimetype": "text/x-python",
   "name": "python",
   "nbconvert_exporter": "python",
   "pygments_lexer": "ipython3",
   "version": "3.11.2"
  },
  "orig_nbformat": 4
 },
 "nbformat": 4,
 "nbformat_minor": 2
}

{
 "cells": [
  {
   "attachments": {},
   "cell_type": "markdown",
   "metadata": {},
   "source": [
    "# Playing with ePrints publications\n",
    "\n",
    "This notebook is a space for getting a feel for ePrints repositories, how best to request data, how to parse it and get the info that we want.\n",
    "It's also a useful space to debug snippets of code that throw errors in the main scripts."
   ]
  },
  {
   "attachments": {},
   "cell_type": "markdown",
   "metadata": {},
   "source": [
    "## Getting the publications"
   ]
  },
  {
   "cell_type": "code",
   "execution_count": null,
   "metadata": {},
   "outputs": [],
   "source": [
    "import requests"
   ]
  },
  {
   "attachments": {},
   "cell_type": "markdown",
   "metadata": {},
   "source": [
    "- Filtering for Item Types *Articles* and *Research Reports or Papers*\n",
    "- XML output works for Southampton Uni (yay!)\n",
    "- based on Philly's Code"
   ]
  },
  {
   "cell_type": "code",
   "execution_count": null,
   "metadata": {},
   "outputs": [],
   "source": [
    "repo = \"eprints.soton.ac.uk\"\n",
    "date = \"2022-\"\n",
    "type = \"paper\"\n",
    "\n",
    "request = f\"https://{repo}/cgi/search/archive/advanced?screen=Search&\" \\\n",
    "            \"output=XML&\" \\\n",
    "            \"_action_export_redir=Export&\" \\\n",
    "            \"dataset=archive&\" \\\n",
    "            \"_action_search=Search&\" \\\n",
    "            \"documents_merge=ALL&\" \\\n",
    "            \"documents=&\" \\\n",
    "            \"eprintid=&\" \\\n",
    "            \"title_merge=ALL&\" \\\n",
    "            \"title=&\" \\\n",
    "            \"contributors_name_merge=ALL&\" \\\n",
    "            \"contributors_name=&\" \\\n",
    "            \"abstract_merge=ALL&\" \\\n",
    "            \"abstract=&\" \\\n",
    "            f\"date={date}&\" \\\n",
    "            \"keywords_merge=ALL&\" \\\n",
    "            \"keywords=&\" \\\n",
    "            \"divisions_merge=ANY&\" \\\n",
    "            f\"pres_type={type}&\" \\\n",
    "            \"refereed=EITHER&\" \\\n",
    "            \"publication%2Fseries_name_merge=ALL&\" \\\n",
    "            \"publication%2Fseries_name=&\" \\\n",
    "            \"documents.date_embargo=&\" \\\n",
    "            \"lastmod=&\" \\\n",
    "            \"pure_uuid=&\" \\\n",
    "            \"contributors_id=&\" \\\n",
    "            \"satisfyall=ALL&\" \\\n",
    "            \"order=contributors_name%2F-date%2Ftitle\""
   ]
  },
  {
   "cell_type": "code",
   "execution_count": null,
   "metadata": {},
   "outputs": [],
   "source": [
    "print(request)"
   ]
  },
  {
   "cell_type": "code",
   "execution_count": null,
   "metadata": {},
   "outputs": [],
   "source": [
    "response = requests.get(request)"
   ]
  },
  {
   "cell_type": "code",
   "execution_count": null,
   "metadata": {},
   "outputs": [],
   "source": [
    "with open(\"export.xml\", \"wb\") as f:\n",
    "    f.write(response.content)"
   ]
  },
  {
   "attachments": {},
   "cell_type": "markdown",
   "metadata": {},
   "source": [
    "## Parsing the publications\n",
    "\n",
    "Useful links:\n",
    "- [Pubmed Parser](https://github.com/titipata/pubmed_parser)\n",
    "- [lxml](https://pypi.org/project/lxml/)\n",
    "- [short intro to lxml](https://realpython.com/python-xml-parser/#lxml-use-elementtree-on-steroids)\n",
    "- [lxml tutorial: parsing](https://lxml.de/tutorial.html)\n",
    "\n",
    "Problem: does not contain full text"
   ]
  },
  {
   "cell_type": "code",
   "execution_count": null,
   "metadata": {},
   "outputs": [],
   "source": [
    "from lxml import etree"
   ]
  },
  {
   "cell_type": "code",
   "execution_count": null,
   "metadata": {},
   "outputs": [],
   "source": [
    "data = \"export_soton_XML.xml\"\n",
    "with open(data, \"rb\") as f:\n",
    "    tree = etree.parse(f)\n",
    "root = tree.getroot()  # holds list of eprints, tagged <eprints>...</eprints>"
   ]
  },
  {
   "cell_type": "code",
   "execution_count": null,
   "metadata": {},
   "outputs": [],
   "source": [
    "root_tag = etree.QName(root.tag)\n",
    "print(root_tag.localname)\n",
    "print(root_tag.namespace)"
   ]
  },
  {
   "cell_type": "code",
   "execution_count": null,
   "metadata": {},
   "outputs": [],
   "source": [
    "children = list(root)  # should be list of entries <eprint>;;;</eprint>\n",
    "print(len(children))"
   ]
  },
  {
   "cell_type": "code",
   "execution_count": null,
   "metadata": {},
   "outputs": [],
   "source": [
    "print(children[0].keys())\n",
    "print(children[0].get(\"id\"))"
   ]
  },
  {
   "cell_type": "code",
   "execution_count": null,
   "metadata": {},
   "outputs": [],
   "source": [
    "for c in list(children[0]):\n",
    "    local_tag = etree.QName(c.tag).localname\n",
    "    print(local_tag)"
   ]
  },
  {
   "cell_type": "code",
   "execution_count": null,
   "metadata": {},
   "outputs": [],
   "source": [
    "def get_specific_fields_content(element, field_name):\n",
    "    print(\"Contents:\")\n",
    "    print(type(element))\n",
    "    contents = []\n",
    "    for child in list(element):\n",
    "        if field_name in child.tag:\n",
    "            contents.append(child.text)\n",
    "            print(type(child.text))\n",
    "    return contents"
   ]
  },
  {
   "cell_type": "code",
   "execution_count": null,
   "metadata": {},
   "outputs": [],
   "source": [
    "def get_specific_fields_elements(element, field_name):\n",
    "    print(\"Elements:\")\n",
    "    print(type(element))\n",
    "    elements = []\n",
    "    for child in list(element):\n",
    "        if field_name in child.tag:\n",
    "            elements.append(child)\n",
    "            print(type(child))\n",
    "    return elements"
   ]
  },
  {
   "cell_type": "code",
   "execution_count": null,
   "metadata": {},
   "outputs": [],
   "source": [
    "file_w_download = children[5]\n",
    "documents_holders = get_specific_fields_elements(file_w_download, \"documents\")\n",
    "for documents_list in documents_holders:\n",
    "    documents = get_specific_fields_elements(documents_list, \"document\")\n",
    "    for document in documents:\n",
    "        files_holders = get_specific_fields_elements(document, \"files\")\n",
    "        for files_list in files_holders:\n",
    "            files = get_specific_fields_elements(files_list, \"file\")\n",
    "            for file in files:\n",
    "                print(get_specific_fields_content(file, \"url\"))"
   ]
  },
  {
   "attachments": {},
   "cell_type": "markdown",
   "metadata": {},
   "source": [
    "## Getting URLs\n",
    "\n",
    "Good example of PDF with github URL: https://eprints.soton.ac.uk/455168/1/MARINE2021_OC4_TUDelft_WavEC.pdf.pdf"
   ]
  },
  {
   "cell_type": "code",
   "execution_count": null,
   "metadata": {},
   "outputs": [],
   "source": [
    "import requests\n",
    "from pdfminer.high_level import extract_text_to_fp\n",
    "import re"
   ]
  },
  {
   "attachments": {},
   "cell_type": "markdown",
   "metadata": {},
   "source": [
    "Download PDF"
   ]
  },
  {
   "cell_type": "code",
   "execution_count": null,
   "metadata": {},
   "outputs": [],
   "source": [
    "sample_pdf = requests.get(\"https://eprints.soton.ac.uk/455168/1/MARINE2021_OC4_TUDelft_WavEC.pdf.pdf\")"
   ]
  },
  {
   "attachments": {},
   "cell_type": "markdown",
   "metadata": {},
   "source": [
    "Extract text from PDF.\n",
    "\n",
    "**Note:** Might want to `extract_pages` instead, and only check the first page as this is where we would expect the link to be."
   ]
  },
  {
   "cell_type": "code",
   "execution_count": null,
   "metadata": {},
   "outputs": [],
   "source": [
    "from io import BytesIO\n",
    "out = BytesIO()\n",
    "extract_text_to_fp(BytesIO(sample_pdf.content), out, output_type=\"text\")"
   ]
  },
  {
   "cell_type": "code",
   "execution_count": null,
   "metadata": {},
   "outputs": [],
   "source": [
    "text = out.getvalue().decode(\"utf-8\")"
   ]
  },
  {
   "cell_type": "code",
   "execution_count": null,
   "metadata": {},
   "outputs": [],
   "source": [
    "pattern = r\"(?P<url>https?://(www.)?github.com[^\\s]+)\"\n",
    "result = re.search(pattern, text).group(\"url\")"
   ]
  },
  {
   "cell_type": "code",
   "execution_count": null,
   "metadata": {},
   "outputs": [],
   "source": [
    "print(type(result))"
   ]
  },
  {
   "cell_type": "code",
   "execution_count": null,
   "metadata": {},
   "outputs": [],
   "source": [
    "sample = \"initial text https://www.github.com/abgs some other text http://github.com/username more other text\"\n",
    "matches = re.findall(pattern, sample)"
   ]
  },
  {
   "cell_type": "code",
   "execution_count": null,
   "metadata": {},
   "outputs": [],
   "source": [
    "for m in re.finditer(pattern, \"Just some random text\"):\n",
    "    print(m.group(\"url\"))"
   ]
  },
  {
   "cell_type": "code",
   "execution_count": null,
   "metadata": {},
   "outputs": [],
   "source": [
    "print(type(matches))"
   ]
  },
  {
   "cell_type": "code",
   "execution_count": null,
   "metadata": {},
   "outputs": [],
   "source": [
    "first_match = re.search(pattern, sample)\n",
    "print(type(first_match))"
   ]
  },
  {
   "attachments": {},
   "cell_type": "markdown",
   "metadata": {},
   "source": [
    "## Debugging Space"
   ]
  },
  {
   "attachments": {},
   "cell_type": "markdown",
   "metadata": {},
   "source": [
    "### Broken PDFs and access denied"
   ]
  },
  {
   "cell_type": "code",
   "execution_count": null,
   "metadata": {},
   "outputs": [],
   "source": [
    "url_access_denied = \"https://eprints.soton.ac.uk/471291/1/2201.09919_1_.pdf\"\n",
    "response_breaks = requests.get(url_access_denied)\n",
    "print(response_breaks.status_code)"
   ]
  },
  {
   "cell_type": "code",
   "execution_count": null,
   "metadata": {},
   "outputs": [],
   "source": [
    "response_ok = requests.get(\"https://eprints.soton.ac.uk/455168/1/MARINE2021_OC4_TUDelft_WavEC.pdf.pdf\")\n",
    "print(response_ok.status_code)\n",
    "print(response_ok.headers['content-length'])\n",
    "print(response_ok.headers['content-type'])"
   ]
  },
  {
   "cell_type": "code",
   "execution_count": null,
   "metadata": {},
   "outputs": [],
   "source": [
    "url_eof = \"https://eprints.soton.ac.uk/474475/1/Unconfirmed_794153.crdownload\"\n",
    "response_eof = requests.get(url_eof)\n",
    "print(response_eof.headers)"
   ]
  }
 ],
 "metadata": {
  "kernelspec": {
   "display_name": "sw_mentions",
   "language": "python",
   "name": "python3"
  },
  "language_info": {
   "codemirror_mode": {
    "name": "ipython",
    "version": 3
   },
   "file_extension": ".py",
   "mimetype": "text/x-python",
   "name": "python",
   "nbconvert_exporter": "python",
   "pygments_lexer": "ipython3",
   "version": "3.10.9"
  },
  "orig_nbformat": 4,
  "vscode": {
   "interpreter": {
    "hash": "3f8c870306affaf32e3b88bbbdaf30b4cc7f0b6023c44e1b700a541afb908dd5"
   }
  }
 },
 "nbformat": 4,
 "nbformat_minor": 2
}
